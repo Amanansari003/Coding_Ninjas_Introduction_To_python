{
 "cells": [
  {
   "cell_type": "code",
   "execution_count": 1,
   "id": "5b56a7a2",
   "metadata": {},
   "outputs": [
    {
     "name": "stdout",
     "output_type": "stream",
     "text": [
      "0 0 0 1 1 \n",
      "\n"
     ]
    }
   ],
   "source": [
    "def sortZerosAndOne(arr, n):\n",
    "    z = 0 \n",
    "    for i in range(n):\n",
    "        if arr[i]== 0:\n",
    "            arr[i],arr[z]=arr[z],arr[i]\n",
    "            z+=1\n",
    "    \n",
    "\n",
    "\n",
    "\n",
    "\n",
    "def printList(arr,n):\n",
    "    for i in range(n):\n",
    "        print(arr[i],end = ' ')\n",
    "    print()\n",
    "    \n",
    "    \n",
    "t = int( input())\n",
    "while t > 0 :\n",
    "    \n",
    "    n = int( input())\n",
    "    if n == 0 :\n",
    "        array = []\n",
    "    else :\n",
    "        array = [int(i) for i in input().split()]\n",
    "        \n",
    "    sortZerosAndOne(array,n)\n",
    "    printList(array,n)\n",
    "    print()\n",
    "\n",
    "    t -= 1"
   ]
  }
 ],
 "metadata": {
  "kernelspec": {
   "display_name": "Python 3.10.0 64-bit",
   "language": "python",
   "name": "python3"
  },
  "language_info": {
   "codemirror_mode": {
    "name": "ipython",
    "version": 3
   },
   "file_extension": ".py",
   "mimetype": "text/x-python",
   "name": "python",
   "nbconvert_exporter": "python",
   "pygments_lexer": "ipython3",
   "version": "3.10.0"
  },
  "vscode": {
   "interpreter": {
    "hash": "6b6bb9b73e77c7418ba4b370821ce9827db27c53033f41f9ef34f697bab06e5b"
   }
  }
 },
 "nbformat": 4,
 "nbformat_minor": 5
}
