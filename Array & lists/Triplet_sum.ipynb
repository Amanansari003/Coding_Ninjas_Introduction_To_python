{
 "cells": [
  {
   "cell_type": "code",
   "execution_count": 1,
   "id": "92b94100",
   "metadata": {},
   "outputs": [
    {
     "name": "stdout",
     "output_type": "stream",
     "text": [
      "1\n",
      "7\n",
      "1 2 3 4 5 6 7\n",
      "12\n",
      "5\n"
     ]
    }
   ],
   "source": [
    "\n",
    "def findTriplet(arr, n, x) :\n",
    "    num = 0 \n",
    "    for i in range(n) :\n",
    "        for j in range((i+1),n) :\n",
    "            for k in range((j+1),n) :\n",
    "                if arr[i]+arr[j]+arr[k] == x :\n",
    "                    num+=1\n",
    "                \n",
    "    return num\n",
    "                    \n",
    "\n",
    "\n",
    "t=int(input())\n",
    "while t>0:\n",
    "    n=int(input())\n",
    "    if n == 0 :\n",
    "        arr = []\n",
    "    else :\n",
    "        arr=[int(x) for x in input().split()]\n",
    "    x = int ( input())\n",
    "    print(findTriplet(arr, n, x))\n",
    "    t -= 1"
   ]
  }
 ],
 "metadata": {
  "kernelspec": {
   "display_name": "Python 3 (ipykernel)",
   "language": "python",
   "name": "python3"
  },
  "language_info": {
   "codemirror_mode": {
    "name": "ipython",
    "version": 3
   },
   "file_extension": ".py",
   "mimetype": "text/x-python",
   "name": "python",
   "nbconvert_exporter": "python",
   "pygments_lexer": "ipython3",
   "version": "3.10.0"
  }
 },
 "nbformat": 4,
 "nbformat_minor": 5
}
