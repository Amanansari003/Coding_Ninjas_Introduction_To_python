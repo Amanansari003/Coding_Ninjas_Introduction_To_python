{
 "cells": [
  {
   "cell_type": "code",
   "execution_count": 1,
   "id": "8421fa4b",
   "metadata": {},
   "outputs": [
    {
     "name": "stdout",
     "output_type": "stream",
     "text": [
      "1\n",
      "5\n",
      "0 2 1 3 1\n",
      "1\n"
     ]
    }
   ],
   "source": [
    "def findUnique(arr, n) :\n",
    "    for i in range(n):\n",
    "        j = i\n",
    "        while j<n :\n",
    "            if i!=j :\n",
    "                if arr[i]==arr[j]:\n",
    "                    return arr[i]\n",
    "            j+=1\n",
    "\n",
    "t=int(input())\n",
    "while t>0:\n",
    "    n=int(input())\n",
    "    arr=[int(x) for x in input().split()]\n",
    "    value = findUnique(arr,n)\n",
    "    print(value)\n",
    "    t-=1"
   ]
  }
 ],
 "metadata": {
  "kernelspec": {
   "display_name": "Python 3 (ipykernel)",
   "language": "python",
   "name": "python3"
  },
  "language_info": {
   "codemirror_mode": {
    "name": "ipython",
    "version": 3
   },
   "file_extension": ".py",
   "mimetype": "text/x-python",
   "name": "python",
   "nbconvert_exporter": "python",
   "pygments_lexer": "ipython3",
   "version": "3.10.0"
  }
 },
 "nbformat": 4,
 "nbformat_minor": 5
}
