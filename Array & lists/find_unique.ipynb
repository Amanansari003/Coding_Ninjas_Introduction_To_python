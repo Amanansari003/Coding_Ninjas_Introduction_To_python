{
 "cells": [
  {
   "cell_type": "code",
   "execution_count": 1,
   "id": "acc940ba",
   "metadata": {},
   "outputs": [
    {
     "name": "stdout",
     "output_type": "stream",
     "text": [
      "1\n",
      "5\n",
      "2 4 7 2 2\n",
      "4\n"
     ]
    }
   ],
   "source": [
    "def findUnique(arr, n) :\n",
    "    for i in range(n):\n",
    "        j = 0\n",
    "        while j<n :\n",
    "            if i!=j :\n",
    "                if arr[i]==arr[j]:\n",
    "                    break\n",
    "            j+=1\n",
    "        else :\n",
    "            return arr[i]\n",
    "\n",
    "t=int(input())\n",
    "while t>0:\n",
    "    n=int(input())\n",
    "    arr=[int(x) for x in input().split()]\n",
    "    value = findUnique(arr,n)\n",
    "    print(value)\n",
    "    t-=1"
   ]
  }
 ],
 "metadata": {
  "kernelspec": {
   "display_name": "Python 3 (ipykernel)",
   "language": "python",
   "name": "python3"
  },
  "language_info": {
   "codemirror_mode": {
    "name": "ipython",
    "version": 3
   },
   "file_extension": ".py",
   "mimetype": "text/x-python",
   "name": "python",
   "nbconvert_exporter": "python",
   "pygments_lexer": "ipython3",
   "version": "3.10.0"
  }
 },
 "nbformat": 4,
 "nbformat_minor": 5
}
