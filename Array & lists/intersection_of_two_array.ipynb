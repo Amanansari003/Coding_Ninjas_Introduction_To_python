{
 "cells": [
  {
   "cell_type": "code",
   "execution_count": 1,
   "id": "bfb513f1",
   "metadata": {},
   "outputs": [
    {
     "name": "stdout",
     "output_type": "stream",
     "text": [
      "1\n",
      "4\n",
      "2 6 1 2\n",
      "5\n",
      "1 2 3 4 2\n",
      "2 1 2 \n"
     ]
    }
   ],
   "source": [
    "def intersection(arr,arr1):\n",
    "    # for i in range(n):\n",
    "    #     for j in range(m) :\n",
    "    #         if arr[i] == arr1[j]:\n",
    "    #             print(arr[i], end = ' ')\n",
    "    #             arr1[j] = '#'\n",
    "    #             break\n",
    "    for i in arr :\n",
    "        if i in arr1 :\n",
    "            print(i,end=' ')\n",
    "            arr1.remove(i)\n",
    "\n",
    "\n",
    "t=int(input())\n",
    "while t>0:\n",
    "    n=int(input())\n",
    "    if n == 0 :\n",
    "        arr = []\n",
    "    else :\n",
    "    \tarr=[int(x) for x in input().split()]\n",
    "    m = int(input())\n",
    "    if m == 0 :\n",
    "        arr1 = []\n",
    "    else :\n",
    "        arr1 = [ int(i) for i in input().split()]\n",
    "    intersection(arr,arr1)\n",
    "    print()\n",
    "    t-=1"
   ]
  }
 ],
 "metadata": {
  "kernelspec": {
   "display_name": "Python 3 (ipykernel)",
   "language": "python",
   "name": "python3"
  },
  "language_info": {
   "codemirror_mode": {
    "name": "ipython",
    "version": 3
   },
   "file_extension": ".py",
   "mimetype": "text/x-python",
   "name": "python",
   "nbconvert_exporter": "python",
   "pygments_lexer": "ipython3",
   "version": "3.10.0"
  }
 },
 "nbformat": 4,
 "nbformat_minor": 5
}
