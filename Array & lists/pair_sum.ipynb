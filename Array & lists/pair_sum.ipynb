{
 "cells": [
  {
   "cell_type": "code",
   "execution_count": 1,
   "id": "9c1efad5",
   "metadata": {},
   "outputs": [
    {
     "name": "stdout",
     "output_type": "stream",
     "text": [
      "1\n",
      "9\n",
      "1 3 6 2 5 4 3 2 4\n",
      "7\n",
      "7\n"
     ]
    }
   ],
   "source": [
    "def pairSum(arr,n,x) :\n",
    "    sum = 0\n",
    "    for i in range (n):\n",
    "        for j in range((i+1),n) :\n",
    "            if arr[i]+arr[j] == x :\n",
    "                sum +=1\n",
    "    return sum\n",
    "\n",
    "t=int(input())\n",
    "while t>0:\n",
    "    n=int(input())\n",
    "    if n == 0 :\n",
    "        arr = []\n",
    "    else :\n",
    "        arr=[int(x) for x in input().split()]\n",
    "    x = int ( input())\n",
    "    print(pairSum(arr, n, x))\n",
    "    t -= 1"
   ]
  }
 ],
 "metadata": {
  "kernelspec": {
   "display_name": "Python 3 (ipykernel)",
   "language": "python",
   "name": "python3"
  },
  "language_info": {
   "codemirror_mode": {
    "name": "ipython",
    "version": 3
   },
   "file_extension": ".py",
   "mimetype": "text/x-python",
   "name": "python",
   "nbconvert_exporter": "python",
   "pygments_lexer": "ipython3",
   "version": "3.10.0"
  }
 },
 "nbformat": 4,
 "nbformat_minor": 5
}
