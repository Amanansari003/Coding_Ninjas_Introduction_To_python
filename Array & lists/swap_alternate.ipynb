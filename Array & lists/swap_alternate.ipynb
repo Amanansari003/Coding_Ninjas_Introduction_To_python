{
 "cells": [
  {
   "cell_type": "code",
   "execution_count": 2,
   "id": "bb0f5cb4",
   "metadata": {},
   "outputs": [
    {
     "name": "stdout",
     "output_type": "stream",
     "text": [
      "1\n",
      "4\n",
      "2 1 4 3\n",
      "1 2 3 4\n"
     ]
    }
   ],
   "source": [
    "def swapalternate(arr):\n",
    "    n=len(arr)\n",
    "    for i in range(0,n-1,2):\n",
    "         arr[i],arr[i+1]=arr[i+1],arr[i]\n",
    "        \n",
    "t=int(input())\n",
    "while t>0:\n",
    "    n=int(input())\n",
    "    arr=[int(x) for x in input().split()]\n",
    "    swapalternate(arr)\n",
    "    print(*arr)\n",
    "    t-=1"
   ]
  }
 ],
 "metadata": {
  "kernelspec": {
   "display_name": "Python 3 (ipykernel)",
   "language": "python",
   "name": "python3"
  },
  "language_info": {
   "codemirror_mode": {
    "name": "ipython",
    "version": 3
   },
   "file_extension": ".py",
   "mimetype": "text/x-python",
   "name": "python",
   "nbconvert_exporter": "python",
   "pygments_lexer": "ipython3",
   "version": "3.10.0"
  }
 },
 "nbformat": 4,
 "nbformat_minor": 5
}
