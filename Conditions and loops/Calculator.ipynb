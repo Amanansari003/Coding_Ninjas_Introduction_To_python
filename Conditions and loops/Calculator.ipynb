{
 "cells": [
  {
   "cell_type": "code",
   "execution_count": null,
   "id": "1a6bc2ba",
   "metadata": {},
   "outputs": [],
   "source": [
    "# according to questions specificatiospecifications \n",
    "\n",
    "\n",
    "while True :\n",
    "    a = int ( input())\n",
    "\n",
    "    if a == 1:\n",
    "        b = int( input())\n",
    "        c = int ( input())\n",
    "        print(b+c)\n",
    "    elif a== 2 :\n",
    "        b = int( input())\n",
    "        c = int ( input())\n",
    "        print(b-c)\n",
    "    elif a == 3 :\n",
    "        b = int( input())\n",
    "        c = int ( input())\n",
    "        print(b*c)\n",
    "    elif a == 4 :\n",
    "        b = int( input())\n",
    "        c = int ( input())\n",
    "        print(b//c)\n",
    "    elif a == 5 :\n",
    "        b = int( input())\n",
    "        c = int ( input())\n",
    "        print(b%c)\n",
    "    elif a == 6 :\n",
    "        break\n",
    "    else :\n",
    "        print(\"Invalid Operation\")"
   ]
  }
 ],
 "metadata": {
  "kernelspec": {
   "display_name": "Python 3 (ipykernel)",
   "language": "python",
   "name": "python3"
  },
  "language_info": {
   "codemirror_mode": {
    "name": "ipython",
    "version": 3
   },
   "file_extension": ".py",
   "mimetype": "text/x-python",
   "name": "python",
   "nbconvert_exporter": "python",
   "pygments_lexer": "ipython3",
   "version": "3.10.0"
  }
 },
 "nbformat": 4,
 "nbformat_minor": 5
}
