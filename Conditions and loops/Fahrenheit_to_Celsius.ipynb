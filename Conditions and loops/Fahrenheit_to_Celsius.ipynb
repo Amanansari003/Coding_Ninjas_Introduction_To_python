{
 "cells": [
  {
   "cell_type": "code",
   "execution_count": null,
   "id": "d700b464",
   "metadata": {},
   "outputs": [],
   "source": [
    "start =int ( input())\n",
    "end = int( input ())\n",
    "gap = int ( input())\n",
    "\n",
    "# making the itration loop \n",
    "\n",
    "\n",
    "while start <= end :\n",
    "    c = int((start - 32 )*5/9)\n",
    "    \n",
    "    print(start,\"\",c)\n",
    "    start = start + gap"
   ]
  }
 ],
 "metadata": {
  "kernelspec": {
   "display_name": "Python 3 (ipykernel)",
   "language": "python",
   "name": "python3"
  },
  "language_info": {
   "codemirror_mode": {
    "name": "ipython",
    "version": 3
   },
   "file_extension": ".py",
   "mimetype": "text/x-python",
   "name": "python",
   "nbconvert_exporter": "python",
   "pygments_lexer": "ipython3",
   "version": "3.10.0"
  }
 },
 "nbformat": 4,
 "nbformat_minor": 5
}
