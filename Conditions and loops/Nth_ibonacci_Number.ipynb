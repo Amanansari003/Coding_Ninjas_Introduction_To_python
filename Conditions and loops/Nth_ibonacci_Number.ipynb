{
 "cells": [
  {
   "cell_type": "code",
   "execution_count": 1,
   "id": "c5fec381",
   "metadata": {},
   "outputs": [
    {
     "name": "stdout",
     "output_type": "stream",
     "text": [
      "8\n",
      "21\n"
     ]
    }
   ],
   "source": [
    "num = int ( input ())\n",
    "\n",
    "i = 1 \n",
    "f1 = 1 \n",
    "f2 = 1\n",
    "while i < num-1 :\n",
    "    temp = f1 + f2 \n",
    "    f1 = f2 \n",
    "    f2 = temp \n",
    "    i+=1\n",
    "\n",
    "print(f2)\n"
   ]
  }
 ],
 "metadata": {
  "kernelspec": {
   "display_name": "Python 3 (ipykernel)",
   "language": "python",
   "name": "python3"
  },
  "language_info": {
   "codemirror_mode": {
    "name": "ipython",
    "version": 3
   },
   "file_extension": ".py",
   "mimetype": "text/x-python",
   "name": "python",
   "nbconvert_exporter": "python",
   "pygments_lexer": "ipython3",
   "version": "3.10.0"
  }
 },
 "nbformat": 4,
 "nbformat_minor": 5
}
