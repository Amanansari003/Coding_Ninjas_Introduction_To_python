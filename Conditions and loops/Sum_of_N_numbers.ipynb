{
 "cells": [
  {
   "cell_type": "code",
   "execution_count": null,
   "id": "eaa20c7a",
   "metadata": {},
   "outputs": [],
   "source": [
    "# Read input as sepcified in the question\n",
    "# Print output as specified in the question\n",
    "n = int (input())\n",
    "\n",
    "count = 1\n",
    "sum = 0\n",
    "while count <= n :\n",
    "    sum = sum + count\n",
    "    count = count + 1\n",
    "print (sum)"
   ]
  }
 ],
 "metadata": {
  "kernelspec": {
   "display_name": "Python 3 (ipykernel)",
   "language": "python",
   "name": "python3"
  },
  "language_info": {
   "codemirror_mode": {
    "name": "ipython",
    "version": 3
   },
   "file_extension": ".py",
   "mimetype": "text/x-python",
   "name": "python",
   "nbconvert_exporter": "python",
   "pygments_lexer": "ipython3",
   "version": "3.10.0"
  }
 },
 "nbformat": 4,
 "nbformat_minor": 5
}
