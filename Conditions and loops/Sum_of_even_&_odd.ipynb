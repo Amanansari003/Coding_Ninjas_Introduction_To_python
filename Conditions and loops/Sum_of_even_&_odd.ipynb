{
 "cells": [
  {
   "cell_type": "code",
   "execution_count": 1,
   "id": "ae746133",
   "metadata": {},
   "outputs": [
    {
     "name": "stdout",
     "output_type": "stream",
     "text": [
      "1234\n",
      "6   4\n"
     ]
    }
   ],
   "source": [
    "num = int ( input ())\n",
    "sum_e = 0\n",
    "sum_o = 0\n",
    "while num > 0:\n",
    "    last_digit = num %10\n",
    "    if last_digit%2 == 0 :\n",
    "        sum_e = sum_e + last_digit\n",
    "    else : \n",
    "        sum_o = sum_o + last_digit\n",
    "    num = num//10\n",
    "\n",
    "\n",
    "print(sum_e, \" \", sum_o)"
   ]
  }
 ],
 "metadata": {
  "kernelspec": {
   "display_name": "Python 3 (ipykernel)",
   "language": "python",
   "name": "python3"
  },
  "language_info": {
   "codemirror_mode": {
    "name": "ipython",
    "version": 3
   },
   "file_extension": ".py",
   "mimetype": "text/x-python",
   "name": "python",
   "nbconvert_exporter": "python",
   "pygments_lexer": "ipython3",
   "version": "3.10.0"
  }
 },
 "nbformat": 4,
 "nbformat_minor": 5
}
