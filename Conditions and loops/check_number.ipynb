{
 "cells": [
  {
   "cell_type": "code",
   "execution_count": null,
   "id": "009da2d7",
   "metadata": {},
   "outputs": [],
   "source": [
    "# Read input as sepcified in the question\n",
    "# Print output as specified in the question\n",
    "n = int( input ())\n",
    "\n",
    "# checking condition \n",
    "\n",
    "if n > 0 :\n",
    "    print('Positive')\n",
    "elif n < 0 :\n",
    "    print('Negative')\n",
    "else :\n",
    "    print('Zero')"
   ]
  }
 ],
 "metadata": {
  "kernelspec": {
   "display_name": "Python 3 (ipykernel)",
   "language": "python",
   "name": "python3"
  },
  "language_info": {
   "codemirror_mode": {
    "name": "ipython",
    "version": 3
   },
   "file_extension": ".py",
   "mimetype": "text/x-python",
   "name": "python",
   "nbconvert_exporter": "python",
   "pygments_lexer": "ipython3",
   "version": "3.10.0"
  }
 },
 "nbformat": 4,
 "nbformat_minor": 5
}
