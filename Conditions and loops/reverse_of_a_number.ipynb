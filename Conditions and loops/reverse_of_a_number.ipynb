{
 "cells": [
  {
   "cell_type": "code",
   "execution_count": 4,
   "id": "a94f3999",
   "metadata": {},
   "outputs": [
    {
     "name": "stdout",
     "output_type": "stream",
     "text": [
      "12345\n",
      "54321\n"
     ]
    }
   ],
   "source": [
    "n =int (input ())\n",
    "rev = 0\n",
    "while n >= 1:\n",
    "    re = n % 10\n",
    "#     n = int((n-re)/10)\n",
    "    n = n//10\n",
    "    rev = rev * 10 + re \n",
    "print (rev)"
   ]
  },
  {
   "cell_type": "code",
   "execution_count": null,
   "id": "fb0d8863",
   "metadata": {},
   "outputs": [],
   "source": []
  }
 ],
 "metadata": {
  "kernelspec": {
   "display_name": "Python 3 (ipykernel)",
   "language": "python",
   "name": "python3"
  },
  "language_info": {
   "codemirror_mode": {
    "name": "ipython",
    "version": 3
   },
   "file_extension": ".py",
   "mimetype": "text/x-python",
   "name": "python",
   "nbconvert_exporter": "python",
   "pygments_lexer": "ipython3",
   "version": "3.10.0"
  }
 },
 "nbformat": 4,
 "nbformat_minor": 5
}
