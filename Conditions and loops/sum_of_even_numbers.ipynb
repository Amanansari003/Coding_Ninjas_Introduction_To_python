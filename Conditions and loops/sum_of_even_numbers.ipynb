{
 "cells": [
  {
   "cell_type": "code",
   "execution_count": null,
   "id": "69b91334",
   "metadata": {},
   "outputs": [],
   "source": [
    "n = int (input ())\n",
    "\n",
    "c = 1 \n",
    "sum = 0 \n",
    "while c <= n :\n",
    "    if c % 2 == 0 :\n",
    "        sum = sum + c\n",
    "        \n",
    "    c = c+1 \n",
    "print(sum)"
   ]
  }
 ],
 "metadata": {
  "kernelspec": {
   "display_name": "Python 3 (ipykernel)",
   "language": "python",
   "name": "python3"
  },
  "language_info": {
   "codemirror_mode": {
    "name": "ipython",
    "version": 3
   },
   "file_extension": ".py",
   "mimetype": "text/x-python",
   "name": "python",
   "nbconvert_exporter": "python",
   "pygments_lexer": "ipython3",
   "version": "3.10.0"
  }
 },
 "nbformat": 4,
 "nbformat_minor": 5
}
