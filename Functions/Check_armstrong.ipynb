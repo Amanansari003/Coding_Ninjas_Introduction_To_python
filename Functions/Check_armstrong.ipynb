{
 "cells": [
  {
   "cell_type": "code",
   "execution_count": 6,
   "id": "fa752574",
   "metadata": {},
   "outputs": [
    {
     "name": "stdout",
     "output_type": "stream",
     "text": [
      "1\n",
      "true\n"
     ]
    }
   ],
   "source": [
    "def arg( num,a ):\n",
    "    rev = 0 \n",
    "    temp = num \n",
    "    for i in range(0,a) :\n",
    "        las = num%10\n",
    "        rev = rev + (las**a)\n",
    "        num = num//10\n",
    "    if rev == temp :\n",
    "        return True\n",
    "    else :\n",
    "        return False \n",
    "\n",
    "\n",
    "n = int ( input ())\n",
    "value = arg(n,len(str(n)))\n",
    "if value:\n",
    "    print('true') \n",
    "else :\n",
    "    print('false')"
   ]
  }
 ],
 "metadata": {
  "kernelspec": {
   "display_name": "Python 3 (ipykernel)",
   "language": "python",
   "name": "python3"
  },
  "language_info": {
   "codemirror_mode": {
    "name": "ipython",
    "version": 3
   },
   "file_extension": ".py",
   "mimetype": "text/x-python",
   "name": "python",
   "nbconvert_exporter": "python",
   "pygments_lexer": "ipython3",
   "version": "3.10.0"
  }
 },
 "nbformat": 4,
 "nbformat_minor": 5
}
