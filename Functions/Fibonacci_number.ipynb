{
 "cells": [
  {
   "cell_type": "code",
   "execution_count": 1,
   "id": "b2f12dd6",
   "metadata": {},
   "outputs": [
    {
     "name": "stdout",
     "output_type": "stream",
     "text": [
      "5\n",
      "true\n"
     ]
    }
   ],
   "source": [
    "def feb(num):\n",
    "    f1 = 1 \n",
    "    f2 = 1 \n",
    "    while f2 <= num :\n",
    "        if f2 == num :\n",
    "            return True \n",
    "        temp = f1+f2\n",
    "        f1 = f2 \n",
    "        f2 = temp \n",
    "    else :\n",
    "        return False\n",
    "\n",
    "\n",
    "n=int(input())\n",
    "if(feb(n)):\n",
    "    print(\"true\")\n",
    "else:\n",
    "    print(\"false\")"
   ]
  }
 ],
 "metadata": {
  "kernelspec": {
   "display_name": "Python 3 (ipykernel)",
   "language": "python",
   "name": "python3"
  },
  "language_info": {
   "codemirror_mode": {
    "name": "ipython",
    "version": 3
   },
   "file_extension": ".py",
   "mimetype": "text/x-python",
   "name": "python",
   "nbconvert_exporter": "python",
   "pygments_lexer": "ipython3",
   "version": "3.10.0"
  }
 },
 "nbformat": 4,
 "nbformat_minor": 5
}
