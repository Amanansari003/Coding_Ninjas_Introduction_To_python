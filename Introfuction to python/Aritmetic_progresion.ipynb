a1 = int ( input ())
a2 = int ( input ())
a3 = int ( input ())
d = (a3-a1)//2    # common difference 
print(d)
