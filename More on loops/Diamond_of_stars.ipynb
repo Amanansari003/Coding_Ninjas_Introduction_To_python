{
 "cells": [
  {
   "cell_type": "code",
   "execution_count": 3,
   "id": "97c86b17",
   "metadata": {},
   "outputs": [
    {
     "name": "stdout",
     "output_type": "stream",
     "text": [
      "7\n",
      "   *\n",
      "  ***\n",
      " *****\n",
      "*******\n",
      " *****\n",
      "  ***\n",
      "   *\n"
     ]
    }
   ],
   "source": [
    "n= int( input())\n",
    "\n",
    "n1= (n+1)//2\n",
    "n2 = n-n1\n",
    "\n",
    "for i in range (1,n1+1):\n",
    "    print(' '*(n1-i), end = '')\n",
    "    print('*'*(2*i-1), end= '')\n",
    "    print()\n",
    "\n",
    "j = n2 \n",
    "p = 1 \n",
    "while j >= 1 :\n",
    "    print(' '*p , end = '')\n",
    "    print('*'*(2*j-1), end ='')\n",
    "    print()\n",
    "\n",
    "    p+=1\n",
    "    j-=1"
   ]
  }
 ],
 "metadata": {
  "kernelspec": {
   "display_name": "Python 3 (ipykernel)",
   "language": "python",
   "name": "python3"
  },
  "language_info": {
   "codemirror_mode": {
    "name": "ipython",
    "version": 3
   },
   "file_extension": ".py",
   "mimetype": "text/x-python",
   "name": "python",
   "nbconvert_exporter": "python",
   "pygments_lexer": "ipython3",
   "version": "3.10.0"
  }
 },
 "nbformat": 4,
 "nbformat_minor": 5
}
