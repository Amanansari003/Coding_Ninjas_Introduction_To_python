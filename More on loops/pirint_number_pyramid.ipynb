{
 "cells": [
  {
   "cell_type": "code",
   "execution_count": 1,
   "id": "66a620ea",
   "metadata": {},
   "outputs": [
    {
     "name": "stdout",
     "output_type": "stream",
     "text": [
      "7\n",
      "1234567\n",
      " 234567\n",
      "  34567\n",
      "   4567\n",
      "    567\n",
      "     67\n",
      "      7\n",
      "     67\n",
      "    567\n",
      "   4567\n",
      "  34567\n",
      " 234567\n",
      "1234567\n"
     ]
    }
   ],
   "source": [
    "n = int( input ())\n",
    "\n",
    "for i in range(1,n) :\n",
    "    for s in range(i-1):\n",
    "        print(' ',end = '')\n",
    "    for j in range(n-i+1):\n",
    "        print(j+i,end='')\n",
    "    print()\n",
    "for i in range (1, n+1):\n",
    "    for s in range (n-i):\n",
    "        print(' ',end= '')\n",
    "    for j in range (1,i+1):\n",
    "        print(n-i+j,end='')\n",
    "    print()"
   ]
  }
 ],
 "metadata": {
  "kernelspec": {
   "display_name": "Python 3 (ipykernel)",
   "language": "python",
   "name": "python3"
  },
  "language_info": {
   "codemirror_mode": {
    "name": "ipython",
    "version": 3
   },
   "file_extension": ".py",
   "mimetype": "text/x-python",
   "name": "python",
   "nbconvert_exporter": "python",
   "pygments_lexer": "ipython3",
   "version": "3.10.0"
  }
 },
 "nbformat": 4,
 "nbformat_minor": 5
}
