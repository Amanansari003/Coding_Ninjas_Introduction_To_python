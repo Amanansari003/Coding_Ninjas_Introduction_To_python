{
 "cells": [
  {
   "cell_type": "code",
   "execution_count": 7,
   "id": "0a4bf6a3",
   "metadata": {},
   "outputs": [
    {
     "name": "stdout",
     "output_type": "stream",
     "text": [
      "6\n",
      "31 32 33 34 35 36 \n",
      "19 20 21 22 23 24 \n",
      "7 8 9 10 11 12 \n"
     ]
    }
   ],
   "source": [
    "n=int(input())\n",
    "\n",
    "### fro upper pattern \n",
    "for i in range(1,n**2,(2*n)):\n",
    "    for j in range(1,n+1):\n",
    "        print(i+j-1,end=\" \")\n",
    "    print()\n",
    "    \n",
    "## for lower pattern\n",
    "if n%2==0:\n",
    "    p=n-1\n",
    "else:\n",
    "    p=n-2\n",
    "for i1 in range(((n*p)+1),n,-(2*n)):\n",
    "    for j1 in range(1,n+1):\n",
    "        print(i1+j1-1,end=\" \")\n",
    "    print()"
   ]
  }
 ],
 "metadata": {
  "kernelspec": {
   "display_name": "Python 3 (ipykernel)",
   "language": "python",
   "name": "python3"
  },
  "language_info": {
   "codemirror_mode": {
    "name": "ipython",
    "version": 3
   },
   "file_extension": ".py",
   "mimetype": "text/x-python",
   "name": "python",
   "nbconvert_exporter": "python",
   "pygments_lexer": "ipython3",
   "version": "3.10.0"
  }
 },
 "nbformat": 4,
 "nbformat_minor": 5
}
