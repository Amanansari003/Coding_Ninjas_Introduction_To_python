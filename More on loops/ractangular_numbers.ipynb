{
 "cells": [
  {
   "cell_type": "code",
   "execution_count": 1,
   "id": "349e6d18",
   "metadata": {},
   "outputs": [
    {
     "name": "stdout",
     "output_type": "stream",
     "text": [
      "5\n",
      "555555555\n",
      "544444445\n",
      "543333345\n",
      "543222345\n",
      "543212345\n",
      "543222345\n",
      "543333345\n",
      "544444445\n",
      "555555555\n"
     ]
    }
   ],
   "source": [
    "## Read input as specified in the question.\n",
    "## Print output as specified in the question.\n",
    "MAX = 100\n",
    "\n",
    "\n",
    "def prints(a, size):\n",
    "\tfor i in range(size):\n",
    "\t\tfor j in range(size):\n",
    "\t\t\tprint(a[i][j], end = '')\n",
    "\t\tprint()\n",
    "\n",
    "def innerPattern(n):\n",
    "\t\n",
    "\t\n",
    "\tsize = 2 * n - 1\n",
    "\tfront = 0\n",
    "\tback = size - 1\n",
    "\ta = [[0 for i in range(MAX)]\n",
    "\t\t\tfor i in range(MAX)]\n",
    "\twhile (n != 0):\n",
    "\t\tfor i in range(front, back + 1):\n",
    "\t\t\tfor j in range(front, back + 1):\n",
    "\t\t\t\tif (i == front or i == back or\n",
    "\t\t\t\t\tj == front or j == back):\n",
    "\t\t\t\t\ta[i][j] = n\n",
    "\t\tfront += 1\n",
    "\t\tback -= 1\n",
    "\t\tn -= 1\n",
    "\tprints(a, size)\n",
    "\n",
    "\n",
    "n = int(input())\n",
    "\n",
    "\n",
    "innerPattern(n)"
   ]
  }
 ],
 "metadata": {
  "kernelspec": {
   "display_name": "Python 3 (ipykernel)",
   "language": "python",
   "name": "python3"
  },
  "language_info": {
   "codemirror_mode": {
    "name": "ipython",
    "version": 3
   },
   "file_extension": ".py",
   "mimetype": "text/x-python",
   "name": "python",
   "nbconvert_exporter": "python",
   "pygments_lexer": "ipython3",
   "version": "3.10.0"
  }
 },
 "nbformat": 4,
 "nbformat_minor": 5
}
