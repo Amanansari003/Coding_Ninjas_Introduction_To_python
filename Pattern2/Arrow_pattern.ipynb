{
 "cells": [
  {
   "cell_type": "code",
   "execution_count": 2,
   "id": "8b595dda",
   "metadata": {},
   "outputs": [
    {
     "name": "stdout",
     "output_type": "stream",
     "text": [
      "7\n",
      "*   \n",
      " * *   \n",
      "  * * *   \n",
      "   * * * *   \n",
      "  * * * \n",
      " * * \n",
      "* \n"
     ]
    }
   ],
   "source": [
    "N= int(input())\n",
    "n1 = (N+1)//2\n",
    "n2 = N-n1\n",
    "\n",
    "i = 1 \n",
    "while i <= n1 :\n",
    "    print(\" \"*(i-1), end= '')\n",
    "    print('* '*i, end = ' ')\n",
    "    print(' ')\n",
    "    i+=1\n",
    "j = 1\n",
    "while j <= n2:\n",
    "    print(' '*(n2-j), end = '')\n",
    "    print('* '*(n2-j+1),end ='')\n",
    "    print()\n",
    "    j+=1"
   ]
  }
 ],
 "metadata": {
  "kernelspec": {
   "display_name": "Python 3 (ipykernel)",
   "language": "python",
   "name": "python3"
  },
  "language_info": {
   "codemirror_mode": {
    "name": "ipython",
    "version": 3
   },
   "file_extension": ".py",
   "mimetype": "text/x-python",
   "name": "python",
   "nbconvert_exporter": "python",
   "pygments_lexer": "ipython3",
   "version": "3.10.0"
  }
 },
 "nbformat": 4,
 "nbformat_minor": 5
}
