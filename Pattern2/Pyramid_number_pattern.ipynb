{
 "cells": [
  {
   "cell_type": "code",
   "execution_count": 1,
   "id": "0e5216b9",
   "metadata": {},
   "outputs": [
    {
     "name": "stdout",
     "output_type": "stream",
     "text": [
      "5\n",
      "    1\n",
      "   212\n",
      "  32123\n",
      " 4321234\n",
      "543212345\n"
     ]
    }
   ],
   "source": [
    "n=int(input())\n",
    "i=1\n",
    "while(i<=n):\n",
    "    space=1\n",
    "    while(space<=n-i):\n",
    "        print(\" \",end=\"\")\n",
    "        space=space+1\n",
    " #     increasing sequence    \n",
    "    j=1\n",
    "    while(j<=i):\n",
    "        print(i-j+1,end=\"\")\n",
    "        j=j+1\n",
    "#     for decreasing sequence\n",
    "    j=i-1\n",
    "    while(j>=1):\n",
    "        print(i-j+1,end=\"\")\n",
    "        j=j-1\n",
    "    print()\n",
    "    i=i+1"
   ]
  }
 ],
 "metadata": {
  "kernelspec": {
   "display_name": "Python 3 (ipykernel)",
   "language": "python",
   "name": "python3"
  },
  "language_info": {
   "codemirror_mode": {
    "name": "ipython",
    "version": 3
   },
   "file_extension": ".py",
   "mimetype": "text/x-python",
   "name": "python",
   "nbconvert_exporter": "python",
   "pygments_lexer": "ipython3",
   "version": "3.10.0"
  }
 },
 "nbformat": 4,
 "nbformat_minor": 5
}
