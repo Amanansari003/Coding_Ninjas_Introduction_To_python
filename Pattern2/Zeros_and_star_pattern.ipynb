{
 "cells": [
  {
   "cell_type": "code",
   "execution_count": 2,
   "id": "10dc54da",
   "metadata": {},
   "outputs": [
    {
     "name": "stdout",
     "output_type": "stream",
     "text": [
      "8\n",
      "*0000000*0000000*\n",
      "0*000000*000000*0\n",
      "00*00000*00000*00\n",
      "000*0000*0000*000\n",
      "0000*000*000*0000\n",
      "00000*00*00*00000\n",
      "000000*0*0*000000\n",
      "0000000***0000000\n"
     ]
    }
   ],
   "source": [
    "N = int(input())\n",
    "i = 1\n",
    "while i<N+1:\n",
    "    j = 1\n",
    "    while j<2*N+2:\n",
    "        if(i==j) or j==N+1 or j ==2*N+2-i:\n",
    "            print('*',end='')\n",
    "        else:\n",
    "            print('0',end='')\n",
    "        j+=1\n",
    "    i+=1\n",
    "    print()"
   ]
  }
 ],
 "metadata": {
  "kernelspec": {
   "display_name": "Python 3 (ipykernel)",
   "language": "python",
   "name": "python3"
  },
  "language_info": {
   "codemirror_mode": {
    "name": "ipython",
    "version": 3
   },
   "file_extension": ".py",
   "mimetype": "text/x-python",
   "name": "python",
   "nbconvert_exporter": "python",
   "pygments_lexer": "ipython3",
   "version": "3.10.0"
  }
 },
 "nbformat": 4,
 "nbformat_minor": 5
}
