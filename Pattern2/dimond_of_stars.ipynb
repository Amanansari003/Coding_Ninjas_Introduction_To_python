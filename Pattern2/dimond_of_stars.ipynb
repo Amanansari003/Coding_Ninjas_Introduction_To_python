{
 "cells": [
  {
   "cell_type": "code",
   "execution_count": 1,
   "id": "f7ef2407",
   "metadata": {},
   "outputs": [
    {
     "name": "stdout",
     "output_type": "stream",
     "text": [
      "6\n",
      "  *\n",
      " ***\n",
      "*****\n",
      " ***\n",
      "  *\n"
     ]
    }
   ],
   "source": [
    "N= int ( input ())\n",
    "\n",
    "# deviding the problem in two halfs \n",
    "n1 = (N+1)//2\n",
    "n2 = n1-1\n",
    "# first upper half\n",
    "i = 1 \n",
    "while i <= n1 :\n",
    "    print(' '*(n1-i),end =\"\")\n",
    "    print('*'*(2*i-1),end= \"\")\n",
    "    print()\n",
    "    i+=1\n",
    "# second lower  half \n",
    "j = n2 \n",
    "p = 1\n",
    "while j>=1:\n",
    "    print(\" \"*p,end = \"\")\n",
    "    print('*'*(2*j-1),end = '')\n",
    "    print()\n",
    "    p+=1\n",
    "    j-=1"
   ]
  }
 ],
 "metadata": {
  "kernelspec": {
   "display_name": "Python 3 (ipykernel)",
   "language": "python",
   "name": "python3"
  },
  "language_info": {
   "codemirror_mode": {
    "name": "ipython",
    "version": 3
   },
   "file_extension": ".py",
   "mimetype": "text/x-python",
   "name": "python",
   "nbconvert_exporter": "python",
   "pygments_lexer": "ipython3",
   "version": "3.10.0"
  }
 },
 "nbformat": 4,
 "nbformat_minor": 5
}
