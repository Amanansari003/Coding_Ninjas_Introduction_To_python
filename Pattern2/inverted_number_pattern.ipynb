{
 "cells": [
  {
   "cell_type": "code",
   "execution_count": 1,
   "id": "8e0527b0",
   "metadata": {},
   "outputs": [
    {
     "name": "stdout",
     "output_type": "stream",
     "text": [
      "6\n",
      "666666\n",
      "55555\n",
      "4444\n",
      "333\n",
      "22\n",
      "1\n"
     ]
    }
   ],
   "source": [
    "n = int (input())\n",
    "i = 1 \n",
    "p = n \n",
    "while i <= n :\n",
    "    j = n \n",
    "    while j >= i:\n",
    "        print(p,end='')\n",
    "        j-=1\n",
    "    p-=1\n",
    "    print()\n",
    "    i+=1"
   ]
  }
 ],
 "metadata": {
  "kernelspec": {
   "display_name": "Python 3 (ipykernel)",
   "language": "python",
   "name": "python3"
  },
  "language_info": {
   "codemirror_mode": {
    "name": "ipython",
    "version": 3
   },
   "file_extension": ".py",
   "mimetype": "text/x-python",
   "name": "python",
   "nbconvert_exporter": "python",
   "pygments_lexer": "ipython3",
   "version": "3.10.0"
  }
 },
 "nbformat": 4,
 "nbformat_minor": 5
}
