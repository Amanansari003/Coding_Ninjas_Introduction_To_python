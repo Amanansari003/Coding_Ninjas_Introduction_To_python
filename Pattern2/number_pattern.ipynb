{
 "cells": [
  {
   "cell_type": "code",
   "execution_count": 1,
   "id": "5125be52",
   "metadata": {},
   "outputs": [
    {
     "name": "stdout",
     "output_type": "stream",
     "text": [
      "5\n",
      "1    1\n",
      "12   21\n",
      "123  321\n",
      "1234 4321\n",
      "1234554321\n"
     ]
    }
   ],
   "source": [
    "n = int ( input ())\n",
    "\n",
    "i = 1 \n",
    "while i <= n :\n",
    "    j = 1 \n",
    "    while j <=i :\n",
    "        print(j,end ='')\n",
    "        j+=1\n",
    "    spaces = 1 \n",
    "    while spaces <= n-i :\n",
    "        print(\" \",end = \"\")\n",
    "        spaces+=1\n",
    "    j = 1 \n",
    "    p = i \n",
    "    while j <= i :\n",
    "        print(p,end ='')\n",
    "        j+=1 \n",
    "        p-=1\n",
    "    print()\n",
    "    i+=1"
   ]
  }
 ],
 "metadata": {
  "kernelspec": {
   "display_name": "Python 3 (ipykernel)",
   "language": "python",
   "name": "python3"
  },
  "language_info": {
   "codemirror_mode": {
    "name": "ipython",
    "version": 3
   },
   "file_extension": ".py",
   "mimetype": "text/x-python",
   "name": "python",
   "nbconvert_exporter": "python",
   "pygments_lexer": "ipython3",
   "version": "3.10.0"
  }
 },
 "nbformat": 4,
 "nbformat_minor": 5
}
