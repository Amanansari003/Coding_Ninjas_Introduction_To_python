{
 "cells": [
  {
   "cell_type": "markdown",
   "id": "6665fbd6",
   "metadata": {},
   "source": [
    "4444\n",
    "4444\n",
    "4444\n",
    "4444"
   ]
  },
  {
   "cell_type": "code",
   "execution_count": null,
   "id": "3cae4e18",
   "metadata": {},
   "outputs": [],
   "source": [
    "a = int ( input())\n",
    "\n",
    "i = 1\n",
    "while i <= a :\n",
    "    j = 1 \n",
    "    while j<= a :\n",
    "        print(a ,end='')\n",
    "        j+=1\n",
    "    print() # for the next line to print the next row into the another row \n",
    "    i+= 1"
   ]
  }
 ],
 "metadata": {
  "kernelspec": {
   "display_name": "Python 3 (ipykernel)",
   "language": "python",
   "name": "python3"
  },
  "language_info": {
   "codemirror_mode": {
    "name": "ipython",
    "version": 3
   },
   "file_extension": ".py",
   "mimetype": "text/x-python",
   "name": "python",
   "nbconvert_exporter": "python",
   "pygments_lexer": "ipython3",
   "version": "3.10.0"
  }
 },
 "nbformat": 4,
 "nbformat_minor": 5
}
