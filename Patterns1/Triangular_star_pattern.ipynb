{
 "cells": [
  {
   "cell_type": "markdown",
   "id": "445376f6",
   "metadata": {},
   "source": [
    "*\n",
    "**  \n",
    "***\n",
    "****"
   ]
  },
  {
   "cell_type": "code",
   "execution_count": 1,
   "id": "13676b06",
   "metadata": {},
   "outputs": [
    {
     "name": "stdout",
     "output_type": "stream",
     "text": [
      "5\n",
      "*\n",
      "**\n",
      "***\n",
      "****\n",
      "*****\n"
     ]
    }
   ],
   "source": [
    "n = int ( input ())\n",
    " \n",
    "i = 1 \n",
    "while i <= n :\n",
    "    j = 1 \n",
    "    while j <= i :\n",
    "        print('*', end = '')\n",
    "        j+=1 \n",
    "    print()\n",
    "    i+= 1 \n",
    "    "
   ]
  }
 ],
 "metadata": {
  "kernelspec": {
   "display_name": "Python 3 (ipykernel)",
   "language": "python",
   "name": "python3"
  },
  "language_info": {
   "codemirror_mode": {
    "name": "ipython",
    "version": 3
   },
   "file_extension": ".py",
   "mimetype": "text/x-python",
   "name": "python",
   "nbconvert_exporter": "python",
   "pygments_lexer": "ipython3",
   "version": "3.10.0"
  }
 },
 "nbformat": 4,
 "nbformat_minor": 5
}
