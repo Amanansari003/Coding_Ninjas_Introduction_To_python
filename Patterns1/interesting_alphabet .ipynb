{
 "cells": [
  {
   "cell_type": "code",
   "execution_count": 1,
   "id": "039a400d",
   "metadata": {},
   "outputs": [
    {
     "name": "stdout",
     "output_type": "stream",
     "text": [
      "5\n",
      "E\n",
      "DE\n",
      "CDE\n",
      "BCDE\n",
      "ABCDE\n"
     ]
    }
   ],
   "source": [
    "n = int ( input ())\n",
    "\n",
    "i = 1 \n",
    "while i <= n :\n",
    "    j = 0 \n",
    "    start_ch = chr(65+n-i)\n",
    "    while j <= i-1 :\n",
    "        chr_p = chr(ord(start_ch)+j)\n",
    "        print(chr_p, end=\"\")\n",
    "        j+=1\n",
    "    print()\n",
    "    i+=1 "
   ]
  }
 ],
 "metadata": {
  "kernelspec": {
   "display_name": "Python 3 (ipykernel)",
   "language": "python",
   "name": "python3"
  },
  "language_info": {
   "codemirror_mode": {
    "name": "ipython",
    "version": 3
   },
   "file_extension": ".py",
   "mimetype": "text/x-python",
   "name": "python",
   "nbconvert_exporter": "python",
   "pygments_lexer": "ipython3",
   "version": "3.10.0"
  }
 },
 "nbformat": 4,
 "nbformat_minor": 5
}
