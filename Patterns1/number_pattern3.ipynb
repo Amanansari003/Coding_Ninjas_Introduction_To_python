{
 "cells": [
  {
   "cell_type": "code",
   "execution_count": 1,
   "id": "0b14d8eb",
   "metadata": {},
   "outputs": [
    {
     "name": "stdout",
     "output_type": "stream",
     "text": [
      "6\n",
      "1\n",
      "11\n",
      "121\n",
      "1221\n",
      "12221\n",
      "122221\n"
     ]
    }
   ],
   "source": [
    "n = int( input ())\n",
    "i = 1 \n",
    "print(1)\n",
    "while i <= n-1 :\n",
    "    print(1,end = '')\n",
    "    j = 1\n",
    "    while j<=i :\n",
    "        if j == 1 :\n",
    "            print(end='')\n",
    "        else :\n",
    "            print(2, end = '')\n",
    "        j+=1\n",
    "    print(1)\n",
    "    i+=1"
   ]
  }
 ],
 "metadata": {
  "kernelspec": {
   "display_name": "Python 3 (ipykernel)",
   "language": "python",
   "name": "python3"
  },
  "language_info": {
   "codemirror_mode": {
    "name": "ipython",
    "version": 3
   },
   "file_extension": ".py",
   "mimetype": "text/x-python",
   "name": "python",
   "nbconvert_exporter": "python",
   "pygments_lexer": "ipython3",
   "version": "3.10.0"
  }
 },
 "nbformat": 4,
 "nbformat_minor": 5
}
