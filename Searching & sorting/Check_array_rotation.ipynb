{
 "cells": [
  {
   "cell_type": "code",
   "execution_count": null,
   "id": "06c12f03",
   "metadata": {},
   "outputs": [],
   "source": [
    "def arrayRotateCheck(li, n):\n",
    "    arr = []\n",
    "    for i in li :\n",
    "        arr.append(i)\n",
    "    # print(arr)\n",
    "    # for i in range (n):\n",
    "    #     for j in range (n-1):\n",
    "    #         if arr[j] > arr[j+1]:\n",
    "    #             arr[j],arr[j+1] = arr[j+1],arr[j]\n",
    "    arr.sort()\n",
    "    val = 0\n",
    "    for i in range (n):\n",
    "        # if arr[i] == li[i] :\n",
    "        #     val = i\n",
    "        #     break\n",
    "        for j in range (n):\n",
    "            if arr[i]== li[j] :\n",
    "                val = j\n",
    "                break\n",
    "        if arr[i] == li[j]:\n",
    "            break\n",
    "    print(val)\n",
    "            \n",
    "t = int( input())\n",
    "while t> 0 :\n",
    "    n = int( input())\n",
    "    if n == 0 :\n",
    "        arr= []\n",
    "    else :\n",
    "        arr = [ int(i) for i in input().split()]\n",
    "    arrayRotateCheck(arr,n)\n",
    "\n",
    "    t-=1"
   ]
  }
 ],
 "metadata": {
  "kernelspec": {
   "display_name": "Python 3 (ipykernel)",
   "language": "python",
   "name": "python3"
  },
  "language_info": {
   "codemirror_mode": {
    "name": "ipython",
    "version": 3
   },
   "file_extension": ".py",
   "mimetype": "text/x-python",
   "name": "python",
   "nbconvert_exporter": "python",
   "pygments_lexer": "ipython3",
   "version": "3.10.0"
  }
 },
 "nbformat": 4,
 "nbformat_minor": 5
}
