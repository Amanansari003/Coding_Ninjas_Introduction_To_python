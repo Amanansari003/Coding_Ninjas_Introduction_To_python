{
 "cells": [
  {
   "cell_type": "code",
   "execution_count": null,
   "id": "661a2e96",
   "metadata": {},
   "outputs": [],
   "source": [
    "\n",
    "def selectionSort(arr, n) : \n",
    "    for i in range (n) :\n",
    "        min = i \n",
    "        for j in range(i+1,n):\n",
    "            if arr[min]>arr[j] :\n",
    "                min = j \n",
    "        arr[i],arr[min] = arr[min], arr[i]  \n",
    "\n",
    "\n",
    "def printList(arr,n):\n",
    "    for i in range(n):\n",
    "        print(arr[i],end = ' ')\n",
    "    print()\n",
    "        \n",
    "\n",
    "\n",
    "t = int( input())\n",
    "while t > 0 :\n",
    "    n = int(input())\n",
    "    if n== 0 :\n",
    "        arr = []\n",
    "    else : \n",
    "        arr = [int(i) for i in input().split()]\n",
    "    selectionSort(arr,n)\n",
    "    printList(arr,n)\n",
    "    \n",
    "    t-= 1"
   ]
  }
 ],
 "metadata": {
  "kernelspec": {
   "display_name": "Python 3 (ipykernel)",
   "language": "python",
   "name": "python3"
  },
  "language_info": {
   "codemirror_mode": {
    "name": "ipython",
    "version": 3
   },
   "file_extension": ".py",
   "mimetype": "text/x-python",
   "name": "python",
   "nbconvert_exporter": "python",
   "pygments_lexer": "ipython3",
   "version": "3.10.0"
  }
 },
 "nbformat": 4,
 "nbformat_minor": 5
}
