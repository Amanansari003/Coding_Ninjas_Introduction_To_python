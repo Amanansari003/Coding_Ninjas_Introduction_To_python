{
 "cells": [
  {
   "cell_type": "code",
   "execution_count": null,
   "id": "db7a75e9",
   "metadata": {},
   "outputs": [],
   "source": [
    "\n",
    "def mergeTwoarray(a1 , a2):\n",
    "    i,j = 0,0\n",
    "    len1,len2 = len(a1),len(a2)\n",
    "    l =  []\n",
    "    while i < len1 and j <len2 :\n",
    "        if a1[i] < a2[j]:\n",
    "            l.append(a1[i])\n",
    "            i+=1\n",
    "        else :\n",
    "            l.append(a2[j])\n",
    "            j+=1 \n",
    "    while i < len1:\n",
    "        l.append(a1[i])\n",
    "        i+=1\n",
    "    while j < len2 :\n",
    "        l.append(a2[j])\n",
    "        j+=1 \n",
    "    return l\n",
    "\n",
    "t = int( input())\n",
    "while t > 0 :\n",
    "    n = int( input())\n",
    "    if n== 0 :\n",
    "        arr = [ ]\n",
    "    else :\n",
    "        arr = [ int(i) for i in input().split()]\n",
    "    m = int( input())\n",
    "    if m == 0 :\n",
    "        arr1 = []\n",
    "    else :\n",
    "        arr1 = [ int(i) for i in input().split()]\n",
    "    a = mergeTwoarray(arr,arr1)\n",
    "    for i in a :\n",
    "        print(i, end = ' ')\n",
    "    print ()\n",
    "    t-=1"
   ]
  }
 ],
 "metadata": {
  "kernelspec": {
   "display_name": "Python 3 (ipykernel)",
   "language": "python",
   "name": "python3"
  },
  "language_info": {
   "codemirror_mode": {
    "name": "ipython",
    "version": 3
   },
   "file_extension": ".py",
   "mimetype": "text/x-python",
   "name": "python",
   "nbconvert_exporter": "python",
   "pygments_lexer": "ipython3",
   "version": "3.10.0"
  }
 },
 "nbformat": 4,
 "nbformat_minor": 5
}
