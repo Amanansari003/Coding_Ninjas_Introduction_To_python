{
 "cells": [
  {
   "cell_type": "code",
   "execution_count": null,
   "id": "10318185",
   "metadata": {},
   "outputs": [],
   "source": [
    "\n",
    "\n",
    "\n",
    "def rotate(arr, a, d):\n",
    "    for i in range(a//2):\n",
    "        arr[i],arr[a-1-i] = arr[a-1-i], arr[i]\n",
    "    for j in range ((a-d)//2) :\n",
    "        arr[j], arr[a-d-1-j] = arr[a-d-1-j],arr[j]  \n",
    "    for k in range (d//2):\n",
    "        arr[a-d+k],arr[a-1-k]= arr[a-1-k],arr[a-d+k]\n",
    "\n",
    "\n",
    "t = int( input())\n",
    "\n",
    "while t > 0 :\n",
    "    \n",
    "    n = int(input())\n",
    "    if n == 0 :\n",
    "        arr = []\n",
    "    else:\n",
    "        arr = [int(i) for i in input().split()]\n",
    "    d = int( input())\n",
    "    rotate(arr, n, d)\n",
    "    for i in arr:\n",
    "        print(i,end = ' ')\n",
    "    print()\n",
    "    \n",
    "    t -= 1"
   ]
  }
 ],
 "metadata": {
  "kernelspec": {
   "display_name": "Python 3 (ipykernel)",
   "language": "python",
   "name": "python3"
  },
  "language_info": {
   "codemirror_mode": {
    "name": "ipython",
    "version": 3
   },
   "file_extension": ".py",
   "mimetype": "text/x-python",
   "name": "python",
   "nbconvert_exporter": "python",
   "pygments_lexer": "ipython3",
   "version": "3.10.0"
  }
 },
 "nbformat": 4,
 "nbformat_minor": 5
}
