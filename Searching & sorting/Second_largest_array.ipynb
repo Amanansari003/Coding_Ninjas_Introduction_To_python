{
 "cells": [
  {
   "cell_type": "code",
   "execution_count": null,
   "id": "8fa1bde5",
   "metadata": {},
   "outputs": [],
   "source": [
    "def secLarg(arr, n):\n",
    "    if arr == []:\n",
    "        print(-2147483648)\n",
    "    else :\n",
    "        a = max(arr)\n",
    "        b = arr.count(a)\n",
    "        for i in range (b) :\n",
    "            arr.remove(a)\n",
    "        if arr == []:\n",
    "            print(-2147483648)\n",
    "        else :\n",
    "            arr.sort()\n",
    "            c = arr[-1]\n",
    "            print(c)\n",
    "\n",
    "\n",
    "\n",
    "t = int ( input())\n",
    "\n",
    "while t> 0 :\n",
    "    n = int( input())\n",
    "    if n == 0 :\n",
    "        arr = []\n",
    "    else :\n",
    "        arr = [int(i) for i in input().split()]\n",
    "    secLarg(arr,n)\n",
    "    t-=1"
   ]
  }
 ],
 "metadata": {
  "kernelspec": {
   "display_name": "Python 3 (ipykernel)",
   "language": "python",
   "name": "python3"
  },
  "language_info": {
   "codemirror_mode": {
    "name": "ipython",
    "version": 3
   },
   "file_extension": ".py",
   "mimetype": "text/x-python",
   "name": "python",
   "nbconvert_exporter": "python",
   "pygments_lexer": "ipython3",
   "version": "3.10.0"
  }
 },
 "nbformat": 4,
 "nbformat_minor": 5
}
