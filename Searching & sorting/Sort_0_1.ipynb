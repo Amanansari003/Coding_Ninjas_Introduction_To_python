{
 "cells": [
  {
   "cell_type": "code",
   "execution_count": null,
   "id": "55071c79",
   "metadata": {},
   "outputs": [],
   "source": [
    "def sort012(arr, n) :\n",
    "    # a = arr.count(1)\n",
    "    # b = arr.count(0)\n",
    "    # c = arr.count(2)\n",
    "    # li = []\n",
    "    # for i in range (b):\n",
    "    #     li.append(0)\n",
    "    # for j in range (a):\n",
    "    #     li.append(1)\n",
    "    # for k in range(c):\n",
    "    #     li.append(2)\n",
    "    \n",
    "    \n",
    "    \n",
    "    z = 0\n",
    "    nt = n-1\n",
    "    i = 0\n",
    "    while i <= nt:\n",
    "        if arr[i] == 0:\n",
    "            arr[i], arr[z] = arr[z], arr[i]\n",
    "            i += 1\n",
    "            z += 1\n",
    "        elif arr[i] == 2:\n",
    "            arr[i], arr[nt] = arr[nt], arr[i]\n",
    "            nt -= 1\n",
    "        else:\n",
    "            i += 1\n",
    "\n",
    "    for i in arr:\n",
    "        print(i, end=' ')\n",
    "        \n",
    "\n",
    "t = int( input())\n",
    "while t > 0 :\n",
    "    n = int( input())\n",
    "    if n == 0 :\n",
    "        arr= []\n",
    "    else :\n",
    "        arr = [int(i) for i in input().split()]\n",
    "    sort012(arr, n)\n",
    "    print()\n",
    "    t -= 1"
   ]
  }
 ],
 "metadata": {
  "kernelspec": {
   "display_name": "Python 3 (ipykernel)",
   "language": "python",
   "name": "python3"
  },
  "language_info": {
   "codemirror_mode": {
    "name": "ipython",
    "version": 3
   },
   "file_extension": ".py",
   "mimetype": "text/x-python",
   "name": "python",
   "nbconvert_exporter": "python",
   "pygments_lexer": "ipython3",
   "version": "3.10.0"
  }
 },
 "nbformat": 4,
 "nbformat_minor": 5
}
