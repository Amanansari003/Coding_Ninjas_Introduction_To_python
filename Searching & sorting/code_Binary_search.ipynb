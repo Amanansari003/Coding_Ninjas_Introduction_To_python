{
 "cells": [
  {
   "cell_type": "code",
   "execution_count": null,
   "id": "05dd1f70",
   "metadata": {},
   "outputs": [],
   "source": [
    "# binary serching function \n",
    "\n",
    "def binarySearching(ar,n,x) :\n",
    "    if n == 0 :\n",
    "    \treturn -1\n",
    "    start = 0 \n",
    "    end = n \n",
    "    while start <= end :\n",
    "        mid = (start+end)//2\n",
    "        if x == arr[mid] :\n",
    "            return  mid \n",
    "        elif x < arr[mid] :\n",
    "            end = mid - 1 \n",
    "        else :\n",
    "            start = mid + 1\n",
    "    else :\n",
    "        return -1\n",
    "\n",
    "\n",
    "\n",
    "\n",
    "# input calue in list \n",
    "n = int( input())\n",
    "if n == 0 :\n",
    "    arr = []\n",
    "else :\n",
    "    arr = [ int(i) for i in input().split()[:n]] # list of inputs\n",
    "\n",
    "# number of operations \n",
    "\n",
    "t = int( input())\n",
    "while t > 0 :\n",
    "\n",
    "    #serching element \n",
    "    x = int ( input())\n",
    "    print(binarySearching(arr,n-1,x))\n",
    "    t-=1"
   ]
  }
 ],
 "metadata": {
  "kernelspec": {
   "display_name": "Python 3 (ipykernel)",
   "language": "python",
   "name": "python3"
  },
  "language_info": {
   "codemirror_mode": {
    "name": "ipython",
    "version": 3
   },
   "file_extension": ".py",
   "mimetype": "text/x-python",
   "name": "python",
   "nbconvert_exporter": "python",
   "pygments_lexer": "ipython3",
   "version": "3.10.0"
  }
 },
 "nbformat": 4,
 "nbformat_minor": 5
}
