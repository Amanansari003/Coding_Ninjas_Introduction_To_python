{
 "cells": [
  {
   "cell_type": "code",
   "execution_count": null,
   "id": "2004a7bc",
   "metadata": {},
   "outputs": [],
   "source": [
    "\n",
    "from sys import stdin\n",
    "\n",
    "\n",
    "\n",
    "def isPermutation(string1, string2) :\n",
    "    n = len(string1)\n",
    "    m = len(string2)\n",
    "    if n!=m :\n",
    "        return False \n",
    "    rev = ''.join(sorted(string1))\n",
    "    rev2 = ''.join(sorted(string2))\n",
    "    for i in range (n):\n",
    "        if rev[i]!=rev2[i]:\n",
    "            return False\n",
    "    return True\n",
    "\n",
    "string1 = stdin.readline().strip();\n",
    "string2 = stdin.readline().strip();\n",
    "\n",
    "ans = isPermutation(string1, string2)\n",
    "\n",
    "if ans :\n",
    "    print('true')\n",
    "else :\n",
    "    print('false')"
   ]
  }
 ],
 "metadata": {
  "kernelspec": {
   "display_name": "Python 3 (ipykernel)",
   "language": "python",
   "name": "python3"
  },
  "language_info": {
   "codemirror_mode": {
    "name": "ipython",
    "version": 3
   },
   "file_extension": ".py",
   "mimetype": "text/x-python",
   "name": "python",
   "nbconvert_exporter": "python",
   "pygments_lexer": "ipython3",
   "version": "3.10.0"
  }
 },
 "nbformat": 4,
 "nbformat_minor": 5
}
