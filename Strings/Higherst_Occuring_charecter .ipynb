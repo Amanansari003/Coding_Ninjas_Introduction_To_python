{
 "cells": [
  {
   "cell_type": "code",
   "execution_count": 1,
   "id": "f504bb78",
   "metadata": {},
   "outputs": [
    {
     "name": "stdout",
     "output_type": "stream",
     "text": [
      "aaabcddabbs\n",
      "a\n"
     ]
    }
   ],
   "source": [
    "def highestOccuringChar(strings) :\n",
    "    cht = [0]*256\n",
    "    m = -1\n",
    "    ch = ''\n",
    "    for i in strings :\n",
    "        cht[ord(i)]+=1\n",
    "    # for i in string :\n",
    "    #     if m < cht[ord(i)] :\n",
    "    #         m = cht[ord(i)]\n",
    "    #         ch = i \n",
    "    d = max(cht)\n",
    "    d = cht.index(d)\n",
    "    c = chr(d)\n",
    "    return c \t\n",
    "\n",
    "\n",
    "\n",
    "#main\n",
    "strings = input()\n",
    "ans1 = highestOccuringChar(strings)\n",
    "print(ans1)"
   ]
  }
 ],
 "metadata": {
  "kernelspec": {
   "display_name": "Python 3 (ipykernel)",
   "language": "python",
   "name": "python3"
  },
  "language_info": {
   "codemirror_mode": {
    "name": "ipython",
    "version": 3
   },
   "file_extension": ".py",
   "mimetype": "text/x-python",
   "name": "python",
   "nbconvert_exporter": "python",
   "pygments_lexer": "ipython3",
   "version": "3.10.0"
  }
 },
 "nbformat": 4,
 "nbformat_minor": 5
}
