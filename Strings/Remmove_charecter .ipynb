{
 "cells": [
  {
   "cell_type": "code",
   "execution_count": 1,
   "id": "6241924a",
   "metadata": {},
   "outputs": [
    {
     "name": "stdout",
     "output_type": "stream",
     "text": [
      "xxyyyzxx\n",
      "y\n",
      "xxzxx\n"
     ]
    }
   ],
   "source": [
    "\n",
    "from sys import stdin\n",
    "def removeAllOccurrencesOfChar(string, ch) :\n",
    "    st = ''\n",
    "    for i in string :\n",
    "        if i != ch :\n",
    "            st+=i\n",
    "    return st\n",
    "\t\n",
    "\n",
    "#main\n",
    "string = input()\n",
    "ch = input()\n",
    "\n",
    "ans = removeAllOccurrencesOfChar(string, ch)\n",
    "\n",
    "print(ans)"
   ]
  }
 ],
 "metadata": {
  "kernelspec": {
   "display_name": "Python 3 (ipykernel)",
   "language": "python",
   "name": "python3"
  },
  "language_info": {
   "codemirror_mode": {
    "name": "ipython",
    "version": 3
   },
   "file_extension": ".py",
   "mimetype": "text/x-python",
   "name": "python",
   "nbconvert_exporter": "python",
   "pygments_lexer": "ipython3",
   "version": "3.10.0"
  }
 },
 "nbformat": 4,
 "nbformat_minor": 5
}
