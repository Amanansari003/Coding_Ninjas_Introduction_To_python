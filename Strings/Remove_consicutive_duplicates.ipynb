{
 "cells": [
  {
   "cell_type": "code",
   "execution_count": 7,
   "id": "e52169bc",
   "metadata": {},
   "outputs": [
    {
     "name": "stdout",
     "output_type": "stream",
     "text": [
      "xxyxxz\n",
      "xyxz\n"
     ]
    }
   ],
   "source": [
    "\n",
    "\n",
    "def removeConsecutiveDuplicates(string) :\n",
    "    s = ''\n",
    "    for i in string:\n",
    "        if s == '' or i != s[len(s)-1]:\n",
    "            s+=i\n",
    "    print(s)\n",
    "\n",
    "\n",
    "#main\n",
    "string = input()\n",
    "removeConsecutiveDuplicates(string)"
   ]
  }
 ],
 "metadata": {
  "kernelspec": {
   "display_name": "Python 3 (ipykernel)",
   "language": "python",
   "name": "python3"
  },
  "language_info": {
   "codemirror_mode": {
    "name": "ipython",
    "version": 3
   },
   "file_extension": ".py",
   "mimetype": "text/x-python",
   "name": "python",
   "nbconvert_exporter": "python",
   "pygments_lexer": "ipython3",
   "version": "3.10.0"
  }
 },
 "nbformat": 4,
 "nbformat_minor": 5
}
