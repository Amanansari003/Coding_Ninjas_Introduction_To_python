{
 "cells": [
  {
   "cell_type": "code",
   "execution_count": 2,
   "id": "17d51fd6",
   "metadata": {},
   "outputs": [
    {
     "name": "stdout",
     "output_type": "stream",
     "text": [
      "aman ansari\n",
      "nama irasna\n"
     ]
    }
   ],
   "source": [
    "\n",
    "from sys import stdin\n",
    "\n",
    "\n",
    "def reverseEachWord(string) :\n",
    "    b = string.split ()\n",
    "    for i in range (len(b)):\n",
    "        str = ''\n",
    "        a = b[i]\n",
    "        for j in a :\n",
    "            str = j+str\n",
    "        b[i] = str\n",
    "    s = ' '\n",
    "    s = s.join(b)\n",
    "    return s\n",
    "\n",
    "#main\n",
    "string = input()\n",
    "\n",
    "ans = reverseEachWord(string)\n",
    "\n",
    "print(ans)"
   ]
  }
 ],
 "metadata": {
  "kernelspec": {
   "display_name": "Python 3 (ipykernel)",
   "language": "python",
   "name": "python3"
  },
  "language_info": {
   "codemirror_mode": {
    "name": "ipython",
    "version": 3
   },
   "file_extension": ".py",
   "mimetype": "text/x-python",
   "name": "python",
   "nbconvert_exporter": "python",
   "pygments_lexer": "ipython3",
   "version": "3.10.0"
  }
 },
 "nbformat": 4,
 "nbformat_minor": 5
}
