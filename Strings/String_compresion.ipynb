{
 "cells": [
  {
   "cell_type": "code",
   "execution_count": null,
   "id": "2e12417b",
   "metadata": {},
   "outputs": [],
   "source": [
    "def getCompressedString(string) :\n",
    "    s = ''\n",
    "    c = 0\n",
    "    for i in string :\n",
    "        # print(i)\n",
    "        if s == \"\" :\n",
    "            s+=i\n",
    "            c+=1 \n",
    "        elif i == s[len(s)-1] :\n",
    "            c+=1\n",
    "        else :\n",
    "            if c!=1 :\n",
    "                s = s+str(c)+i\n",
    "                c = 1\n",
    "            else :\n",
    "                s = s+i\n",
    "    if c !=1 :\n",
    "        return s+str(c)\n",
    "    else :\n",
    "        return s \n",
    "string = input()\n",
    "value = getCompressedString(string)\n",
    "print(value)"
   ]
  }
 ],
 "metadata": {
  "kernelspec": {
   "display_name": "Python 3 (ipykernel)",
   "language": "python",
   "name": "python3"
  },
  "language_info": {
   "codemirror_mode": {
    "name": "ipython",
    "version": 3
   },
   "file_extension": ".py",
   "mimetype": "text/x-python",
   "name": "python",
   "nbconvert_exporter": "python",
   "pygments_lexer": "ipython3",
   "version": "3.10.0"
  }
 },
 "nbformat": 4,
 "nbformat_minor": 5
}
