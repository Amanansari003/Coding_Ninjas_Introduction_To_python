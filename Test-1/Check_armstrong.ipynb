{
 "cells": [
  {
   "cell_type": "code",
   "execution_count": null,
   "id": "c9c6c003",
   "metadata": {},
   "outputs": [],
   "source": [
    "def arms( num , b ):\n",
    "    temp = num \n",
    "    rev = 0 \n",
    "    sum = 0\n",
    "    for i in range(b):\n",
    "        last_digit = num%10 \n",
    "        sum = sum + last_digit**b\n",
    "        num = num //10 \n",
    "    if temp == sum :\n",
    "        return True\n",
    "    else :\n",
    "        return False\n",
    "\n",
    "\n",
    "n = int(input())\n",
    "\n",
    "value = arms(n, len(str(n)))\n",
    "if value :\n",
    "    print('true')\n",
    "else :\n",
    "    print('false')"
   ]
  }
 ],
 "metadata": {
  "kernelspec": {
   "display_name": "Python 3 (ipykernel)",
   "language": "python",
   "name": "python3"
  },
  "language_info": {
   "codemirror_mode": {
    "name": "ipython",
    "version": 3
   },
   "file_extension": ".py",
   "mimetype": "text/x-python",
   "name": "python",
   "nbconvert_exporter": "python",
   "pygments_lexer": "ipython3",
   "version": "3.10.0"
  }
 },
 "nbformat": 4,
 "nbformat_minor": 5
}
