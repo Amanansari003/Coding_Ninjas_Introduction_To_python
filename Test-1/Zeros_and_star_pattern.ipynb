{
 "cells": [
  {
   "cell_type": "code",
   "execution_count": 2,
   "id": "1a59cfcc",
   "metadata": {},
   "outputs": [
    {
     "name": "stdout",
     "output_type": "stream",
     "text": [
      "6\n",
      "*00000*00000*\n",
      "0*0000*0000*0\n",
      "00*000*000*00\n",
      "000*00*00*000\n",
      "0000*0*0*0000\n",
      "00000***00000\n"
     ]
    }
   ],
   "source": [
    "n = int(input())\n",
    "for i in range(1,n+1):\n",
    "    for j in range(1,n*2+2):\n",
    "        if i == j or j == n+1 or j == n*2+2-i :\n",
    "            print('*',end='')\n",
    "        else :\n",
    "            print('0',end='')\n",
    "    print()"
   ]
  }
 ],
 "metadata": {
  "kernelspec": {
   "display_name": "Python 3 (ipykernel)",
   "language": "python",
   "name": "python3"
  },
  "language_info": {
   "codemirror_mode": {
    "name": "ipython",
    "version": 3
   },
   "file_extension": ".py",
   "mimetype": "text/x-python",
   "name": "python",
   "nbconvert_exporter": "python",
   "pygments_lexer": "ipython3",
   "version": "3.10.0"
  }
 },
 "nbformat": 4,
 "nbformat_minor": 5
}
