{
 "cells": [
  {
   "cell_type": "code",
   "execution_count": 1,
   "id": "0281c91d",
   "metadata": {},
   "outputs": [
    {
     "name": "stdout",
     "output_type": "stream",
     "text": [
      "5\n",
      "5432*\n",
      "543*1\n",
      "54*21\n",
      "5*321\n",
      "*4321\n"
     ]
    }
   ],
   "source": [
    "n =int ( input ())\n",
    "\n",
    "for i in range(1,n+1):\n",
    "    for j in range ( 0, n-i):\n",
    "        print(n-j,end = '')\n",
    "    print(\"*\",end ='')\n",
    "# for k in range (1,n+1):\n",
    "    for k in range (i-1):\n",
    "       \n",
    "        print(i-k-1,end='')\n",
    "    print()"
   ]
  }
 ],
 "metadata": {
  "kernelspec": {
   "display_name": "Python 3 (ipykernel)",
   "language": "python",
   "name": "python3"
  },
  "language_info": {
   "codemirror_mode": {
    "name": "ipython",
    "version": 3
   },
   "file_extension": ".py",
   "mimetype": "text/x-python",
   "name": "python",
   "nbconvert_exporter": "python",
   "pygments_lexer": "ipython3",
   "version": "3.10.0"
  }
 },
 "nbformat": 4,
 "nbformat_minor": 5
}
