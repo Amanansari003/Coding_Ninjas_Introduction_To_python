{
 "cells": [
  {
   "cell_type": "markdown",
   "id": "6eddc329",
   "metadata": {},
   "source": [
    "Given a string S (that can contain multiple words), you need to find the word which has minimum length.\n",
    "\n",
    "Note : If multiple words are of same length, then answer will be first minimum length word in the string.\n",
    "\n",
    "Words are seperated by single space only.\n",
    "\n",
    "Input Format :\n",
    "String S\n",
    "Output Format :\n",
    "Minimum length word\n",
    "\n",
    "Constraints :\n",
    "1 <= Length of String S <= 10^5\n",
    "\n",
    "Sample Input 1 :\n",
    "this is test string\n",
    "\n",
    "Sample Output 1 :\n",
    "is"
   ]
  },
  {
   "cell_type": "code",
   "execution_count": null,
   "id": "0aed45a4",
   "metadata": {},
   "outputs": [],
   "source": [
    "## Read input as specified in the question.\n",
    "## Print output as specified in the question.\n",
    "def chk ( string ):\n",
    "    c = ''\n",
    "    o = 100\n",
    "    for i in string:\n",
    "        a = len(i)\n",
    "        if a < o :\n",
    "            o = a \n",
    "            c = i\n",
    "    return c\n",
    "\n",
    "\n",
    "s = input().split()\n",
    "v = chk(s)\n",
    "print(v)"
   ]
  }
 ],
 "metadata": {
  "kernelspec": {
   "display_name": "Python 3 (ipykernel)",
   "language": "python",
   "name": "python3"
  },
  "language_info": {
   "codemirror_mode": {
    "name": "ipython",
    "version": 3
   },
   "file_extension": ".py",
   "mimetype": "text/x-python",
   "name": "python",
   "nbconvert_exporter": "python",
   "pygments_lexer": "ipython3",
   "version": "3.10.0"
  }
 },
 "nbformat": 4,
 "nbformat_minor": 5
}
