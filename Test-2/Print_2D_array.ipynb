{
 "cells": [
  {
   "cell_type": "markdown",
   "id": "cb6e897b",
   "metadata": {},
   "source": [
    "Given a 2D integer array with n rows and m columns. Print the 0th row from input n times, 1st row n-1 times…..(n-1)th row will be printed 1 time.\n",
    "\n",
    "Input format :\n",
    "Line 1 : No of rows (n) and no of columns (m) (separated by single space)\n",
    "\n",
    "Line 2 : Row 1 elements (separated by space)\n",
    "Line 3 : Row 2 elements (separated by space)\n",
    "Line 4 : and so on\n",
    "\n",
    "Sample Input 1:\n",
    "3 3\n",
    "\n",
    "1 2 3\n",
    "\n",
    "4 5 6\n",
    "\n",
    "7 8 9\n",
    "\n",
    "Sample Output 1 :\n",
    "1 2 3\n",
    "\n",
    "1 2 3\n",
    "\n",
    "1 2 3\n",
    "\n",
    "4 5 6\n",
    "\n",
    "4 5 6\n",
    "\n",
    "7 8 9\n"
   ]
  },
  {
   "cell_type": "code",
   "execution_count": null,
   "id": "272e86e7",
   "metadata": {},
   "outputs": [],
   "source": [
    "## Read input as specified in the question.\n",
    "## Print output as specified in the question.\n",
    "def pr(mat,nr,nc) :\n",
    "    for i in range( nr):\n",
    "        for j in range (nr-i):\n",
    "            for k in range (nc):\n",
    "                print(mat[i][k], end = ' ')\n",
    "            print()\n",
    "\n",
    "\n",
    "\n",
    "li = [int(i) for i in input().split()]\n",
    "nr = li[0]\n",
    "nc = li[1]\n",
    "if nr == 0 :\n",
    "    mat = [[]]\n",
    "else :\n",
    "    mat = [[int(j) for j in input().split()] for i in range (nr)]\n",
    "pr(mat,nr,nc)"
   ]
  }
 ],
 "metadata": {
  "kernelspec": {
   "display_name": "Python 3 (ipykernel)",
   "language": "python",
   "name": "python3"
  },
  "language_info": {
   "codemirror_mode": {
    "name": "ipython",
    "version": 3
   },
   "file_extension": ".py",
   "mimetype": "text/x-python",
   "name": "python",
   "nbconvert_exporter": "python",
   "pygments_lexer": "ipython3",
   "version": "3.10.0"
  }
 },
 "nbformat": 4,
 "nbformat_minor": 5
}
