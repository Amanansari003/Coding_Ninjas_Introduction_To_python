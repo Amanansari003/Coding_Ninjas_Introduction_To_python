{
 "cells": [
  {
   "cell_type": "markdown",
   "id": "7b6149eb",
   "metadata": {},
   "source": [
    "Given an integer array A of size n. Find and print all the leaders present in the input array. An array element A[i] is called Leader, if all the elements following it (i.e. present at its right) are less than or equal to A[i].\n",
    "\n",
    "Print all the leader elements separated by space and in the same order they are present in the input array.\n",
    "\n",
    "Input Format :\n",
    "Line 1 : Integer n, size of array\n",
    "Line 2 : Array A elements (separated by space)\n",
    "\n",
    "Output Format :\n",
    " leaders of array (separated by space)\n",
    " \n",
    "Constraints :\n",
    "1 <= n <= 10^6\n",
    "\n",
    "Sample Input 1 :\n",
    "6\n",
    "3 12 34 2 0 -1\n",
    "\n",
    "Sample Output 1 :\n",
    "34 2 0 -1"
   ]
  },
  {
   "cell_type": "code",
   "execution_count": null,
   "id": "e9929e87",
   "metadata": {},
   "outputs": [],
   "source": [
    "## Read input as specified in the question.\n",
    "## Print output as specified in the question.\n",
    "def chk ( mat ):\n",
    "    for i in range ( len(mat)) :\n",
    "        for j in range (i+1,len(mat)) :\n",
    "            if mat[i] < mat[j] :\n",
    "                break\n",
    "        else :\n",
    "            print(mat[i], end = ' ')\n",
    "\n",
    "s = int ( input()) \n",
    "if s == 0 :\n",
    "    mat = []\n",
    "else :\n",
    "    mat = [int(i) for i in input().split()[:s]]\n",
    "chk(mat)"
   ]
  }
 ],
 "metadata": {
  "kernelspec": {
   "display_name": "Python 3 (ipykernel)",
   "language": "python",
   "name": "python3"
  },
  "language_info": {
   "codemirror_mode": {
    "name": "ipython",
    "version": 3
   },
   "file_extension": ".py",
   "mimetype": "text/x-python",
   "name": "python",
   "nbconvert_exporter": "python",
   "pygments_lexer": "ipython3",
   "version": "3.10.0"
  }
 },
 "nbformat": 4,
 "nbformat_minor": 5
}
