{
 "cells": [
  {
   "cell_type": "code",
   "execution_count": null,
   "id": "9c9f268a",
   "metadata": {},
   "outputs": [],
   "source": [
    "def rowWiseSum(mat):\n",
    "    for i in mat :\n",
    "        s = 0 \n",
    "        for j in i :\n",
    "            s = s+j\n",
    "        print(s, end = \" \")\n",
    "            \n",
    "        # print(sum(i), end= ' ')\n",
    "\n",
    "\n",
    "t = int( input())\n",
    "while t > 0 :\n",
    "    li = [int(i) for i in input().split()]\n",
    "    nRows = li[0]\n",
    "    mCols = li[1]\n",
    "    if nRows == 0 :\n",
    "        mat = []\n",
    "    else :\n",
    "        mat = [[int(i) for i in input().split()] for j in range(nRows)]\n",
    "    rowWiseSum(mat)\n",
    "    print()\n",
    "    t-=1"
   ]
  }
 ],
 "metadata": {
  "kernelspec": {
   "display_name": "Python 3 (ipykernel)",
   "language": "python",
   "name": "python3"
  },
  "language_info": {
   "codemirror_mode": {
    "name": "ipython",
    "version": 3
   },
   "file_extension": ".py",
   "mimetype": "text/x-python",
   "name": "python",
   "nbconvert_exporter": "python",
   "pygments_lexer": "ipython3",
   "version": "3.10.0"
  }
 },
 "nbformat": 4,
 "nbformat_minor": 5
}
