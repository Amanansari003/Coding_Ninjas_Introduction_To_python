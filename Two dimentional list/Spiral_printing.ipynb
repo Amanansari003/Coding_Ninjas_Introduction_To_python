{
 "cells": [
  {
   "cell_type": "code",
   "execution_count": null,
   "id": "110d856c",
   "metadata": {},
   "outputs": [],
   "source": [
    "def spiral(mt,nr,mc) :\n",
    "    a = (mc+1)//2\n",
    "    low = 0 \n",
    "    high = mc\n",
    "    re = nr\n",
    "    count = 0\n",
    "    tnum = nr*mc\n",
    "    if mc == 1:\n",
    "        for i in range (nr):\n",
    "            for j in range (mc):\n",
    "                print(mat[i][j],end = ' ')\n",
    "    else :\n",
    "\n",
    "        for sp in range(a):\n",
    "            for i in range (low, high):\n",
    "                if count<tnum:\n",
    "                    print(mt[sp][i],end= ' ')\n",
    "                    count+=1\n",
    "            for i in range (low+1,re):\n",
    "                if count<tnum:\n",
    "                    print(mt[i][high-1],end = ' ')\n",
    "                    count+=1\n",
    "            for j in range (high-2,low-1,-1) :\n",
    "                if count<tnum:\n",
    "                    print(mt[re-1][j],end = ' ')\n",
    "                    count+=1\n",
    "            for l in range (re-2,low,-1):\n",
    "                if count<tnum:\n",
    "                    print(mt[l][low],end = ' ')\n",
    "                    count+=1\n",
    "            # if count == tnum :\n",
    "            #     break\n",
    "            low+=1\n",
    "            high-=1\n",
    "            re-=1\n",
    "\n",
    "t = int( input())\n",
    "while t > 0 :\n",
    "    l = [int(i) for i in input().split()]\n",
    "    nr = l[0]\n",
    "    mc = l[1]\n",
    "    if nr == 0 :\n",
    "        mat = [[]]\n",
    "    else :\n",
    "        mat = [[int(j) for j in input().split()] for i in range (nr)]\n",
    "    spiral(mat,nr,mc)\n",
    "    print()\n",
    "    t-=1"
   ]
  }
 ],
 "metadata": {
  "kernelspec": {
   "display_name": "Python 3 (ipykernel)",
   "language": "python",
   "name": "python3"
  },
  "language_info": {
   "codemirror_mode": {
    "name": "ipython",
    "version": 3
   },
   "file_extension": ".py",
   "mimetype": "text/x-python",
   "name": "python",
   "nbconvert_exporter": "python",
   "pygments_lexer": "ipython3",
   "version": "3.10.0"
  }
 },
 "nbformat": 4,
 "nbformat_minor": 5
}
