{
 "cells": [
  {
   "cell_type": "code",
   "execution_count": null,
   "id": "dd185005",
   "metadata": {},
   "outputs": [],
   "source": [
    "\n",
    "def khalid(li,n1,m):\n",
    "    if li == [[]] :\n",
    "        l= [\"row\",0,-2147483648]\n",
    "        return l\n",
    "    else : \n",
    "        row_sum = [0]*n1\n",
    "        col_sum = [0]*m\n",
    "        for i in range (n1):\n",
    "            for j in range (m):\n",
    "                row_sum[i]+= li[i][j]\n",
    "                col_sum[j]+= li[i][j]\n",
    "        a = max(row_sum)\n",
    "        b = row_sum.index(a)\n",
    "        kh = [\"row\",b,a]\n",
    "        a = max(col_sum)\n",
    "        b = col_sum.index(a)\n",
    "        if a > kh[2]:\n",
    "            kh = ['column',b,a]\n",
    "        return kh\n",
    "\n",
    "\n",
    "t = int( input())\n",
    "while t > 0 :\n",
    "    n = [ int(i) for i in input().split()]\n",
    "    row = n[0] \n",
    "    col = n[1]\n",
    "    if row == 0 :\n",
    "        li = [[]]\n",
    "    else :\n",
    "        li = [[int(j) for j in input().split()] for i in range (row)]\n",
    "    value = khalid(li,row, col)\n",
    "    for i in value :\n",
    "        print(i , end = \" \")\n",
    "    print()\n",
    "    t-=1"
   ]
  }
 ],
 "metadata": {
  "kernelspec": {
   "display_name": "Python 3 (ipykernel)",
   "language": "python",
   "name": "python3"
  },
  "language_info": {
   "codemirror_mode": {
    "name": "ipython",
    "version": 3
   },
   "file_extension": ".py",
   "mimetype": "text/x-python",
   "name": "python",
   "nbconvert_exporter": "python",
   "pygments_lexer": "ipython3",
   "version": "3.10.0"
  }
 },
 "nbformat": 4,
 "nbformat_minor": 5
}
